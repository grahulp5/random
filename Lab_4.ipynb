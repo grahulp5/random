{
  "cells": [
    {
      "cell_type": "markdown",
      "id": "8ada0896",
      "metadata": {
        "id": "8ada0896"
      },
      "source": [
        "# Learning Objectives\n",
        "Upon completion of this lab, you will learn\n",
        "<ul>\n",
        "<li> How to to generate <strong>pseudrandom</strong> numbers using different methods?\n",
        "<li> How to simulate a coin flip?\n",
        "<li> How to simulate a lottery draw?\n",
        "</ul>"
      ]
    },
    {
      "cell_type": "code",
      "execution_count": 3,
      "id": "cb34fc1e",
      "metadata": {
        "id": "cb34fc1e"
      },
      "outputs": [],
      "source": [
        "import random"
      ]
    },
    {
      "cell_type": "markdown",
      "id": "7b6103ff",
      "metadata": {
        "id": "7b6103ff"
      },
      "source": [
        "## Task 1 (20 Marks)\n",
        "To get the content of a module you can use <strong>dir(module_name)</strong>.\n",
        "To get help about the module use <strong>help(module_name)</strong> or in jupyter <strong>module_name?</strong>"
      ]
    },
    {
      "cell_type": "markdown",
      "id": "76ba5ade",
      "metadata": {
        "id": "76ba5ade"
      },
      "source": [
        "Check the content of the <b>random</b> Python module <strong>(2 Marks)</strong>"
      ]
    },
    {
      "cell_type": "code",
      "execution_count": 4,
      "id": "4d0f9e32",
      "metadata": {
        "colab": {
          "base_uri": "https://localhost:8080/"
        },
        "id": "4d0f9e32",
        "outputId": "06958ccc-f2de-4466-992f-392d4c9a0020"
      },
      "outputs": [
        {
          "output_type": "stream",
          "name": "stdout",
          "text": [
            "Help on module random:\n",
            "\n",
            "NAME\n",
            "    random - Random variable generators.\n",
            "\n",
            "MODULE REFERENCE\n",
            "    https://docs.python.org/3.10/library/random.html\n",
            "    \n",
            "    The following documentation is automatically generated from the Python\n",
            "    source files.  It may be incomplete, incorrect or include features that\n",
            "    are considered implementation detail and may vary between Python\n",
            "    implementations.  When in doubt, consult the module reference at the\n",
            "    location listed above.\n",
            "\n",
            "DESCRIPTION\n",
            "        bytes\n",
            "        -----\n",
            "               uniform bytes (values between 0 and 255)\n",
            "    \n",
            "        integers\n",
            "        --------\n",
            "               uniform within range\n",
            "    \n",
            "        sequences\n",
            "        ---------\n",
            "               pick random element\n",
            "               pick random sample\n",
            "               pick weighted random sample\n",
            "               generate random permutation\n",
            "    \n",
            "        distributions on the real line:\n",
            "        ------------------------------\n",
            "               uniform\n",
            "               triangular\n",
            "               normal (Gaussian)\n",
            "               lognormal\n",
            "               negative exponential\n",
            "               gamma\n",
            "               beta\n",
            "               pareto\n",
            "               Weibull\n",
            "    \n",
            "        distributions on the circle (angles 0 to 2pi)\n",
            "        ---------------------------------------------\n",
            "               circular uniform\n",
            "               von Mises\n",
            "    \n",
            "    General notes on the underlying Mersenne Twister core generator:\n",
            "    \n",
            "    * The period is 2**19937-1.\n",
            "    * It is one of the most extensively tested generators in existence.\n",
            "    * The random() method is implemented in C, executes in a single Python step,\n",
            "      and is, therefore, threadsafe.\n",
            "\n",
            "CLASSES\n",
            "    _random.Random(builtins.object)\n",
            "        Random\n",
            "            SystemRandom\n",
            "    \n",
            "    class Random(_random.Random)\n",
            "     |  Random(x=None)\n",
            "     |  \n",
            "     |  Random number generator base class used by bound module functions.\n",
            "     |  \n",
            "     |  Used to instantiate instances of Random to get generators that don't\n",
            "     |  share state.\n",
            "     |  \n",
            "     |  Class Random can also be subclassed if you want to use a different basic\n",
            "     |  generator of your own devising: in that case, override the following\n",
            "     |  methods:  random(), seed(), getstate(), and setstate().\n",
            "     |  Optionally, implement a getrandbits() method so that randrange()\n",
            "     |  can cover arbitrarily large ranges.\n",
            "     |  \n",
            "     |  Method resolution order:\n",
            "     |      Random\n",
            "     |      _random.Random\n",
            "     |      builtins.object\n",
            "     |  \n",
            "     |  Methods defined here:\n",
            "     |  \n",
            "     |  __getstate__(self)\n",
            "     |      # Issue 17489: Since __reduce__ was defined to fix #759889 this is no\n",
            "     |      # longer called; we leave it here because it has been here since random was\n",
            "     |      # rewritten back in 2001 and why risk breaking something.\n",
            "     |  \n",
            "     |  __init__(self, x=None)\n",
            "     |      Initialize an instance.\n",
            "     |      \n",
            "     |      Optional argument x controls seeding, as for Random.seed().\n",
            "     |  \n",
            "     |  __reduce__(self)\n",
            "     |      Helper for pickle.\n",
            "     |  \n",
            "     |  __setstate__(self, state)\n",
            "     |  \n",
            "     |  betavariate(self, alpha, beta)\n",
            "     |      Beta distribution.\n",
            "     |      \n",
            "     |      Conditions on the parameters are alpha > 0 and beta > 0.\n",
            "     |      Returned values range between 0 and 1.\n",
            "     |  \n",
            "     |  choice(self, seq)\n",
            "     |      Choose a random element from a non-empty sequence.\n",
            "     |  \n",
            "     |  choices(self, population, weights=None, *, cum_weights=None, k=1)\n",
            "     |      Return a k sized list of population elements chosen with replacement.\n",
            "     |      \n",
            "     |      If the relative weights or cumulative weights are not specified,\n",
            "     |      the selections are made with equal probability.\n",
            "     |  \n",
            "     |  expovariate(self, lambd)\n",
            "     |      Exponential distribution.\n",
            "     |      \n",
            "     |      lambd is 1.0 divided by the desired mean.  It should be\n",
            "     |      nonzero.  (The parameter would be called \"lambda\", but that is\n",
            "     |      a reserved word in Python.)  Returned values range from 0 to\n",
            "     |      positive infinity if lambd is positive, and from negative\n",
            "     |      infinity to 0 if lambd is negative.\n",
            "     |  \n",
            "     |  gammavariate(self, alpha, beta)\n",
            "     |      Gamma distribution.  Not the gamma function!\n",
            "     |      \n",
            "     |      Conditions on the parameters are alpha > 0 and beta > 0.\n",
            "     |      \n",
            "     |      The probability distribution function is:\n",
            "     |      \n",
            "     |                  x ** (alpha - 1) * math.exp(-x / beta)\n",
            "     |        pdf(x) =  --------------------------------------\n",
            "     |                    math.gamma(alpha) * beta ** alpha\n",
            "     |  \n",
            "     |  gauss(self, mu, sigma)\n",
            "     |      Gaussian distribution.\n",
            "     |      \n",
            "     |      mu is the mean, and sigma is the standard deviation.  This is\n",
            "     |      slightly faster than the normalvariate() function.\n",
            "     |      \n",
            "     |      Not thread-safe without a lock around calls.\n",
            "     |  \n",
            "     |  getstate(self)\n",
            "     |      Return internal state; can be passed to setstate() later.\n",
            "     |  \n",
            "     |  lognormvariate(self, mu, sigma)\n",
            "     |      Log normal distribution.\n",
            "     |      \n",
            "     |      If you take the natural logarithm of this distribution, you'll get a\n",
            "     |      normal distribution with mean mu and standard deviation sigma.\n",
            "     |      mu can have any value, and sigma must be greater than zero.\n",
            "     |  \n",
            "     |  normalvariate(self, mu, sigma)\n",
            "     |      Normal distribution.\n",
            "     |      \n",
            "     |      mu is the mean, and sigma is the standard deviation.\n",
            "     |  \n",
            "     |  paretovariate(self, alpha)\n",
            "     |      Pareto distribution.  alpha is the shape parameter.\n",
            "     |  \n",
            "     |  randbytes(self, n)\n",
            "     |      Generate n random bytes.\n",
            "     |  \n",
            "     |  randint(self, a, b)\n",
            "     |      Return random integer in range [a, b], including both end points.\n",
            "     |  \n",
            "     |  randrange(self, start, stop=None, step=1)\n",
            "     |      Choose a random item from range(start, stop[, step]).\n",
            "     |      \n",
            "     |      This fixes the problem with randint() which includes the\n",
            "     |      endpoint; in Python this is usually not what you want.\n",
            "     |  \n",
            "     |  sample(self, population, k, *, counts=None)\n",
            "     |      Chooses k unique random elements from a population sequence or set.\n",
            "     |      \n",
            "     |      Returns a new list containing elements from the population while\n",
            "     |      leaving the original population unchanged.  The resulting list is\n",
            "     |      in selection order so that all sub-slices will also be valid random\n",
            "     |      samples.  This allows raffle winners (the sample) to be partitioned\n",
            "     |      into grand prize and second place winners (the subslices).\n",
            "     |      \n",
            "     |      Members of the population need not be hashable or unique.  If the\n",
            "     |      population contains repeats, then each occurrence is a possible\n",
            "     |      selection in the sample.\n",
            "     |      \n",
            "     |      Repeated elements can be specified one at a time or with the optional\n",
            "     |      counts parameter.  For example:\n",
            "     |      \n",
            "     |          sample(['red', 'blue'], counts=[4, 2], k=5)\n",
            "     |      \n",
            "     |      is equivalent to:\n",
            "     |      \n",
            "     |          sample(['red', 'red', 'red', 'red', 'blue', 'blue'], k=5)\n",
            "     |      \n",
            "     |      To choose a sample from a range of integers, use range() for the\n",
            "     |      population argument.  This is especially fast and space efficient\n",
            "     |      for sampling from a large population:\n",
            "     |      \n",
            "     |          sample(range(10000000), 60)\n",
            "     |  \n",
            "     |  seed(self, a=None, version=2)\n",
            "     |      Initialize internal state from a seed.\n",
            "     |      \n",
            "     |      The only supported seed types are None, int, float,\n",
            "     |      str, bytes, and bytearray.\n",
            "     |      \n",
            "     |      None or no argument seeds from current time or from an operating\n",
            "     |      system specific randomness source if available.\n",
            "     |      \n",
            "     |      If *a* is an int, all bits are used.\n",
            "     |      \n",
            "     |      For version 2 (the default), all of the bits are used if *a* is a str,\n",
            "     |      bytes, or bytearray.  For version 1 (provided for reproducing random\n",
            "     |      sequences from older versions of Python), the algorithm for str and\n",
            "     |      bytes generates a narrower range of seeds.\n",
            "     |  \n",
            "     |  setstate(self, state)\n",
            "     |      Restore internal state from object returned by getstate().\n",
            "     |  \n",
            "     |  shuffle(self, x, random=None)\n",
            "     |      Shuffle list x in place, and return None.\n",
            "     |      \n",
            "     |      Optional argument random is a 0-argument function returning a\n",
            "     |      random float in [0.0, 1.0); if it is the default None, the\n",
            "     |      standard random.random will be used.\n",
            "     |  \n",
            "     |  triangular(self, low=0.0, high=1.0, mode=None)\n",
            "     |      Triangular distribution.\n",
            "     |      \n",
            "     |      Continuous distribution bounded by given lower and upper limits,\n",
            "     |      and having a given mode value in-between.\n",
            "     |      \n",
            "     |      http://en.wikipedia.org/wiki/Triangular_distribution\n",
            "     |  \n",
            "     |  uniform(self, a, b)\n",
            "     |      Get a random number in the range [a, b) or [a, b] depending on rounding.\n",
            "     |  \n",
            "     |  vonmisesvariate(self, mu, kappa)\n",
            "     |      Circular data distribution.\n",
            "     |      \n",
            "     |      mu is the mean angle, expressed in radians between 0 and 2*pi, and\n",
            "     |      kappa is the concentration parameter, which must be greater than or\n",
            "     |      equal to zero.  If kappa is equal to zero, this distribution reduces\n",
            "     |      to a uniform random angle over the range 0 to 2*pi.\n",
            "     |  \n",
            "     |  weibullvariate(self, alpha, beta)\n",
            "     |      Weibull distribution.\n",
            "     |      \n",
            "     |      alpha is the scale parameter and beta is the shape parameter.\n",
            "     |  \n",
            "     |  ----------------------------------------------------------------------\n",
            "     |  Class methods defined here:\n",
            "     |  \n",
            "     |  __init_subclass__(**kwargs) from builtins.type\n",
            "     |      Control how subclasses generate random integers.\n",
            "     |      \n",
            "     |      The algorithm a subclass can use depends on the random() and/or\n",
            "     |      getrandbits() implementation available to it and determines\n",
            "     |      whether it can generate random integers from arbitrarily large\n",
            "     |      ranges.\n",
            "     |  \n",
            "     |  ----------------------------------------------------------------------\n",
            "     |  Data descriptors defined here:\n",
            "     |  \n",
            "     |  __dict__\n",
            "     |      dictionary for instance variables (if defined)\n",
            "     |  \n",
            "     |  __weakref__\n",
            "     |      list of weak references to the object (if defined)\n",
            "     |  \n",
            "     |  ----------------------------------------------------------------------\n",
            "     |  Data and other attributes defined here:\n",
            "     |  \n",
            "     |  VERSION = 3\n",
            "     |  \n",
            "     |  ----------------------------------------------------------------------\n",
            "     |  Methods inherited from _random.Random:\n",
            "     |  \n",
            "     |  getrandbits(self, k, /)\n",
            "     |      getrandbits(k) -> x.  Generates an int with k random bits.\n",
            "     |  \n",
            "     |  random(self, /)\n",
            "     |      random() -> x in the interval [0, 1).\n",
            "     |  \n",
            "     |  ----------------------------------------------------------------------\n",
            "     |  Static methods inherited from _random.Random:\n",
            "     |  \n",
            "     |  __new__(*args, **kwargs) from builtins.type\n",
            "     |      Create and return a new object.  See help(type) for accurate signature.\n",
            "    \n",
            "    class SystemRandom(Random)\n",
            "     |  SystemRandom(x=None)\n",
            "     |  \n",
            "     |  Alternate random number generator using sources provided\n",
            "     |  by the operating system (such as /dev/urandom on Unix or\n",
            "     |  CryptGenRandom on Windows).\n",
            "     |  \n",
            "     |   Not available on all systems (see os.urandom() for details).\n",
            "     |  \n",
            "     |  Method resolution order:\n",
            "     |      SystemRandom\n",
            "     |      Random\n",
            "     |      _random.Random\n",
            "     |      builtins.object\n",
            "     |  \n",
            "     |  Methods defined here:\n",
            "     |  \n",
            "     |  getrandbits(self, k)\n",
            "     |      getrandbits(k) -> x.  Generates an int with k random bits.\n",
            "     |  \n",
            "     |  getstate = _notimplemented(self, *args, **kwds)\n",
            "     |  \n",
            "     |  randbytes(self, n)\n",
            "     |      Generate n random bytes.\n",
            "     |  \n",
            "     |  random(self)\n",
            "     |      Get the next random number in the range [0.0, 1.0).\n",
            "     |  \n",
            "     |  seed(self, *args, **kwds)\n",
            "     |      Stub method.  Not used for a system random number generator.\n",
            "     |  \n",
            "     |  setstate = _notimplemented(self, *args, **kwds)\n",
            "     |  \n",
            "     |  ----------------------------------------------------------------------\n",
            "     |  Methods inherited from Random:\n",
            "     |  \n",
            "     |  __getstate__(self)\n",
            "     |      # Issue 17489: Since __reduce__ was defined to fix #759889 this is no\n",
            "     |      # longer called; we leave it here because it has been here since random was\n",
            "     |      # rewritten back in 2001 and why risk breaking something.\n",
            "     |  \n",
            "     |  __init__(self, x=None)\n",
            "     |      Initialize an instance.\n",
            "     |      \n",
            "     |      Optional argument x controls seeding, as for Random.seed().\n",
            "     |  \n",
            "     |  __reduce__(self)\n",
            "     |      Helper for pickle.\n",
            "     |  \n",
            "     |  __setstate__(self, state)\n",
            "     |  \n",
            "     |  betavariate(self, alpha, beta)\n",
            "     |      Beta distribution.\n",
            "     |      \n",
            "     |      Conditions on the parameters are alpha > 0 and beta > 0.\n",
            "     |      Returned values range between 0 and 1.\n",
            "     |  \n",
            "     |  choice(self, seq)\n",
            "     |      Choose a random element from a non-empty sequence.\n",
            "     |  \n",
            "     |  choices(self, population, weights=None, *, cum_weights=None, k=1)\n",
            "     |      Return a k sized list of population elements chosen with replacement.\n",
            "     |      \n",
            "     |      If the relative weights or cumulative weights are not specified,\n",
            "     |      the selections are made with equal probability.\n",
            "     |  \n",
            "     |  expovariate(self, lambd)\n",
            "     |      Exponential distribution.\n",
            "     |      \n",
            "     |      lambd is 1.0 divided by the desired mean.  It should be\n",
            "     |      nonzero.  (The parameter would be called \"lambda\", but that is\n",
            "     |      a reserved word in Python.)  Returned values range from 0 to\n",
            "     |      positive infinity if lambd is positive, and from negative\n",
            "     |      infinity to 0 if lambd is negative.\n",
            "     |  \n",
            "     |  gammavariate(self, alpha, beta)\n",
            "     |      Gamma distribution.  Not the gamma function!\n",
            "     |      \n",
            "     |      Conditions on the parameters are alpha > 0 and beta > 0.\n",
            "     |      \n",
            "     |      The probability distribution function is:\n",
            "     |      \n",
            "     |                  x ** (alpha - 1) * math.exp(-x / beta)\n",
            "     |        pdf(x) =  --------------------------------------\n",
            "     |                    math.gamma(alpha) * beta ** alpha\n",
            "     |  \n",
            "     |  gauss(self, mu, sigma)\n",
            "     |      Gaussian distribution.\n",
            "     |      \n",
            "     |      mu is the mean, and sigma is the standard deviation.  This is\n",
            "     |      slightly faster than the normalvariate() function.\n",
            "     |      \n",
            "     |      Not thread-safe without a lock around calls.\n",
            "     |  \n",
            "     |  lognormvariate(self, mu, sigma)\n",
            "     |      Log normal distribution.\n",
            "     |      \n",
            "     |      If you take the natural logarithm of this distribution, you'll get a\n",
            "     |      normal distribution with mean mu and standard deviation sigma.\n",
            "     |      mu can have any value, and sigma must be greater than zero.\n",
            "     |  \n",
            "     |  normalvariate(self, mu, sigma)\n",
            "     |      Normal distribution.\n",
            "     |      \n",
            "     |      mu is the mean, and sigma is the standard deviation.\n",
            "     |  \n",
            "     |  paretovariate(self, alpha)\n",
            "     |      Pareto distribution.  alpha is the shape parameter.\n",
            "     |  \n",
            "     |  randint(self, a, b)\n",
            "     |      Return random integer in range [a, b], including both end points.\n",
            "     |  \n",
            "     |  randrange(self, start, stop=None, step=1)\n",
            "     |      Choose a random item from range(start, stop[, step]).\n",
            "     |      \n",
            "     |      This fixes the problem with randint() which includes the\n",
            "     |      endpoint; in Python this is usually not what you want.\n",
            "     |  \n",
            "     |  sample(self, population, k, *, counts=None)\n",
            "     |      Chooses k unique random elements from a population sequence or set.\n",
            "     |      \n",
            "     |      Returns a new list containing elements from the population while\n",
            "     |      leaving the original population unchanged.  The resulting list is\n",
            "     |      in selection order so that all sub-slices will also be valid random\n",
            "     |      samples.  This allows raffle winners (the sample) to be partitioned\n",
            "     |      into grand prize and second place winners (the subslices).\n",
            "     |      \n",
            "     |      Members of the population need not be hashable or unique.  If the\n",
            "     |      population contains repeats, then each occurrence is a possible\n",
            "     |      selection in the sample.\n",
            "     |      \n",
            "     |      Repeated elements can be specified one at a time or with the optional\n",
            "     |      counts parameter.  For example:\n",
            "     |      \n",
            "     |          sample(['red', 'blue'], counts=[4, 2], k=5)\n",
            "     |      \n",
            "     |      is equivalent to:\n",
            "     |      \n",
            "     |          sample(['red', 'red', 'red', 'red', 'blue', 'blue'], k=5)\n",
            "     |      \n",
            "     |      To choose a sample from a range of integers, use range() for the\n",
            "     |      population argument.  This is especially fast and space efficient\n",
            "     |      for sampling from a large population:\n",
            "     |      \n",
            "     |          sample(range(10000000), 60)\n",
            "     |  \n",
            "     |  shuffle(self, x, random=None)\n",
            "     |      Shuffle list x in place, and return None.\n",
            "     |      \n",
            "     |      Optional argument random is a 0-argument function returning a\n",
            "     |      random float in [0.0, 1.0); if it is the default None, the\n",
            "     |      standard random.random will be used.\n",
            "     |  \n",
            "     |  triangular(self, low=0.0, high=1.0, mode=None)\n",
            "     |      Triangular distribution.\n",
            "     |      \n",
            "     |      Continuous distribution bounded by given lower and upper limits,\n",
            "     |      and having a given mode value in-between.\n",
            "     |      \n",
            "     |      http://en.wikipedia.org/wiki/Triangular_distribution\n",
            "     |  \n",
            "     |  uniform(self, a, b)\n",
            "     |      Get a random number in the range [a, b) or [a, b] depending on rounding.\n",
            "     |  \n",
            "     |  vonmisesvariate(self, mu, kappa)\n",
            "     |      Circular data distribution.\n",
            "     |      \n",
            "     |      mu is the mean angle, expressed in radians between 0 and 2*pi, and\n",
            "     |      kappa is the concentration parameter, which must be greater than or\n",
            "     |      equal to zero.  If kappa is equal to zero, this distribution reduces\n",
            "     |      to a uniform random angle over the range 0 to 2*pi.\n",
            "     |  \n",
            "     |  weibullvariate(self, alpha, beta)\n",
            "     |      Weibull distribution.\n",
            "     |      \n",
            "     |      alpha is the scale parameter and beta is the shape parameter.\n",
            "     |  \n",
            "     |  ----------------------------------------------------------------------\n",
            "     |  Class methods inherited from Random:\n",
            "     |  \n",
            "     |  __init_subclass__(**kwargs) from builtins.type\n",
            "     |      Control how subclasses generate random integers.\n",
            "     |      \n",
            "     |      The algorithm a subclass can use depends on the random() and/or\n",
            "     |      getrandbits() implementation available to it and determines\n",
            "     |      whether it can generate random integers from arbitrarily large\n",
            "     |      ranges.\n",
            "     |  \n",
            "     |  ----------------------------------------------------------------------\n",
            "     |  Data descriptors inherited from Random:\n",
            "     |  \n",
            "     |  __dict__\n",
            "     |      dictionary for instance variables (if defined)\n",
            "     |  \n",
            "     |  __weakref__\n",
            "     |      list of weak references to the object (if defined)\n",
            "     |  \n",
            "     |  ----------------------------------------------------------------------\n",
            "     |  Data and other attributes inherited from Random:\n",
            "     |  \n",
            "     |  VERSION = 3\n",
            "     |  \n",
            "     |  ----------------------------------------------------------------------\n",
            "     |  Static methods inherited from _random.Random:\n",
            "     |  \n",
            "     |  __new__(*args, **kwargs) from builtins.type\n",
            "     |      Create and return a new object.  See help(type) for accurate signature.\n",
            "\n",
            "FUNCTIONS\n",
            "    betavariate(alpha, beta) method of Random instance\n",
            "        Beta distribution.\n",
            "        \n",
            "        Conditions on the parameters are alpha > 0 and beta > 0.\n",
            "        Returned values range between 0 and 1.\n",
            "    \n",
            "    choice(seq) method of Random instance\n",
            "        Choose a random element from a non-empty sequence.\n",
            "    \n",
            "    choices(population, weights=None, *, cum_weights=None, k=1) method of Random instance\n",
            "        Return a k sized list of population elements chosen with replacement.\n",
            "        \n",
            "        If the relative weights or cumulative weights are not specified,\n",
            "        the selections are made with equal probability.\n",
            "    \n",
            "    expovariate(lambd) method of Random instance\n",
            "        Exponential distribution.\n",
            "        \n",
            "        lambd is 1.0 divided by the desired mean.  It should be\n",
            "        nonzero.  (The parameter would be called \"lambda\", but that is\n",
            "        a reserved word in Python.)  Returned values range from 0 to\n",
            "        positive infinity if lambd is positive, and from negative\n",
            "        infinity to 0 if lambd is negative.\n",
            "    \n",
            "    gammavariate(alpha, beta) method of Random instance\n",
            "        Gamma distribution.  Not the gamma function!\n",
            "        \n",
            "        Conditions on the parameters are alpha > 0 and beta > 0.\n",
            "        \n",
            "        The probability distribution function is:\n",
            "        \n",
            "                    x ** (alpha - 1) * math.exp(-x / beta)\n",
            "          pdf(x) =  --------------------------------------\n",
            "                      math.gamma(alpha) * beta ** alpha\n",
            "    \n",
            "    gauss(mu, sigma) method of Random instance\n",
            "        Gaussian distribution.\n",
            "        \n",
            "        mu is the mean, and sigma is the standard deviation.  This is\n",
            "        slightly faster than the normalvariate() function.\n",
            "        \n",
            "        Not thread-safe without a lock around calls.\n",
            "    \n",
            "    getrandbits(k, /) method of Random instance\n",
            "        getrandbits(k) -> x.  Generates an int with k random bits.\n",
            "    \n",
            "    getstate() method of Random instance\n",
            "        Return internal state; can be passed to setstate() later.\n",
            "    \n",
            "    lognormvariate(mu, sigma) method of Random instance\n",
            "        Log normal distribution.\n",
            "        \n",
            "        If you take the natural logarithm of this distribution, you'll get a\n",
            "        normal distribution with mean mu and standard deviation sigma.\n",
            "        mu can have any value, and sigma must be greater than zero.\n",
            "    \n",
            "    normalvariate(mu, sigma) method of Random instance\n",
            "        Normal distribution.\n",
            "        \n",
            "        mu is the mean, and sigma is the standard deviation.\n",
            "    \n",
            "    paretovariate(alpha) method of Random instance\n",
            "        Pareto distribution.  alpha is the shape parameter.\n",
            "    \n",
            "    randbytes(n) method of Random instance\n",
            "        Generate n random bytes.\n",
            "    \n",
            "    randint(a, b) method of Random instance\n",
            "        Return random integer in range [a, b], including both end points.\n",
            "    \n",
            "    random() method of Random instance\n",
            "        random() -> x in the interval [0, 1).\n",
            "    \n",
            "    randrange(start, stop=None, step=1) method of Random instance\n",
            "        Choose a random item from range(start, stop[, step]).\n",
            "        \n",
            "        This fixes the problem with randint() which includes the\n",
            "        endpoint; in Python this is usually not what you want.\n",
            "    \n",
            "    sample(population, k, *, counts=None) method of Random instance\n",
            "        Chooses k unique random elements from a population sequence or set.\n",
            "        \n",
            "        Returns a new list containing elements from the population while\n",
            "        leaving the original population unchanged.  The resulting list is\n",
            "        in selection order so that all sub-slices will also be valid random\n",
            "        samples.  This allows raffle winners (the sample) to be partitioned\n",
            "        into grand prize and second place winners (the subslices).\n",
            "        \n",
            "        Members of the population need not be hashable or unique.  If the\n",
            "        population contains repeats, then each occurrence is a possible\n",
            "        selection in the sample.\n",
            "        \n",
            "        Repeated elements can be specified one at a time or with the optional\n",
            "        counts parameter.  For example:\n",
            "        \n",
            "            sample(['red', 'blue'], counts=[4, 2], k=5)\n",
            "        \n",
            "        is equivalent to:\n",
            "        \n",
            "            sample(['red', 'red', 'red', 'red', 'blue', 'blue'], k=5)\n",
            "        \n",
            "        To choose a sample from a range of integers, use range() for the\n",
            "        population argument.  This is especially fast and space efficient\n",
            "        for sampling from a large population:\n",
            "        \n",
            "            sample(range(10000000), 60)\n",
            "    \n",
            "    seed(a=None, version=2) method of Random instance\n",
            "        Initialize internal state from a seed.\n",
            "        \n",
            "        The only supported seed types are None, int, float,\n",
            "        str, bytes, and bytearray.\n",
            "        \n",
            "        None or no argument seeds from current time or from an operating\n",
            "        system specific randomness source if available.\n",
            "        \n",
            "        If *a* is an int, all bits are used.\n",
            "        \n",
            "        For version 2 (the default), all of the bits are used if *a* is a str,\n",
            "        bytes, or bytearray.  For version 1 (provided for reproducing random\n",
            "        sequences from older versions of Python), the algorithm for str and\n",
            "        bytes generates a narrower range of seeds.\n",
            "    \n",
            "    setstate(state) method of Random instance\n",
            "        Restore internal state from object returned by getstate().\n",
            "    \n",
            "    shuffle(x, random=None) method of Random instance\n",
            "        Shuffle list x in place, and return None.\n",
            "        \n",
            "        Optional argument random is a 0-argument function returning a\n",
            "        random float in [0.0, 1.0); if it is the default None, the\n",
            "        standard random.random will be used.\n",
            "    \n",
            "    triangular(low=0.0, high=1.0, mode=None) method of Random instance\n",
            "        Triangular distribution.\n",
            "        \n",
            "        Continuous distribution bounded by given lower and upper limits,\n",
            "        and having a given mode value in-between.\n",
            "        \n",
            "        http://en.wikipedia.org/wiki/Triangular_distribution\n",
            "    \n",
            "    uniform(a, b) method of Random instance\n",
            "        Get a random number in the range [a, b) or [a, b] depending on rounding.\n",
            "    \n",
            "    vonmisesvariate(mu, kappa) method of Random instance\n",
            "        Circular data distribution.\n",
            "        \n",
            "        mu is the mean angle, expressed in radians between 0 and 2*pi, and\n",
            "        kappa is the concentration parameter, which must be greater than or\n",
            "        equal to zero.  If kappa is equal to zero, this distribution reduces\n",
            "        to a uniform random angle over the range 0 to 2*pi.\n",
            "    \n",
            "    weibullvariate(alpha, beta) method of Random instance\n",
            "        Weibull distribution.\n",
            "        \n",
            "        alpha is the scale parameter and beta is the shape parameter.\n",
            "\n",
            "DATA\n",
            "    __all__ = ['Random', 'SystemRandom', 'betavariate', 'choice', 'choices...\n",
            "\n",
            "FILE\n",
            "    /usr/lib/python3.10/random.py\n",
            "\n",
            "\n"
          ]
        }
      ],
      "source": [
        "# your Python code goes here\n",
        "help(random)"
      ]
    },
    {
      "cell_type": "markdown",
      "id": "865e8452",
      "metadata": {
        "id": "865e8452"
      },
      "source": [
        "\n",
        "\n",
        "```\n",
        "# This is formatted as code\n",
        "```\n",
        "\n",
        "Use <strong>list comprehension</strong> to extract all the <strong>dir(random)</strong> items with a name that does not start with <strong>_</strong>. (<strong>4 Marks</strong>)"
      ]
    },
    {
      "cell_type": "code",
      "execution_count": 5,
      "id": "438d4109",
      "metadata": {
        "colab": {
          "base_uri": "https://localhost:8080/"
        },
        "id": "438d4109",
        "outputId": "22c4a8e9-8fa4-4f4d-d095-972cb24f0cd7"
      },
      "outputs": [
        {
          "output_type": "execute_result",
          "data": {
            "text/plain": [
              "['BPF',\n",
              " 'LOG4',\n",
              " 'NV_MAGICCONST',\n",
              " 'RECIP_BPF',\n",
              " 'Random',\n",
              " 'SG_MAGICCONST',\n",
              " 'SystemRandom',\n",
              " 'TWOPI',\n",
              " 'betavariate',\n",
              " 'choice',\n",
              " 'choices',\n",
              " 'expovariate',\n",
              " 'gammavariate',\n",
              " 'gauss',\n",
              " 'getrandbits',\n",
              " 'getstate',\n",
              " 'lognormvariate',\n",
              " 'normalvariate',\n",
              " 'paretovariate',\n",
              " 'randbytes',\n",
              " 'randint',\n",
              " 'random',\n",
              " 'randrange',\n",
              " 'sample',\n",
              " 'seed',\n",
              " 'setstate',\n",
              " 'shuffle',\n",
              " 'triangular',\n",
              " 'uniform',\n",
              " 'vonmisesvariate',\n",
              " 'weibullvariate']"
            ]
          },
          "metadata": {},
          "execution_count": 5
        }
      ],
      "source": [
        "# your Python code goes here\n",
        "my_list=[x for x in dir(random) if not x.startswith('_')]\n",
        "my_list"
      ]
    },
    {
      "cell_type": "markdown",
      "id": "24e2de05",
      "metadata": {
        "id": "24e2de05"
      },
      "source": [
        "Displays the help information for the following <strong>random</strong> methods.\n",
        "<ol>\n",
        "<li> <strong>randint()</strong> <strong>(2 Marks)</strong>\n",
        "<li> <strong>randrange()</strong> <strong>(2 Marks)</strong>\n",
        "<li> <strong>uniform()</strong> <strong>(2 Marks)</strong>\n",
        "<li> <strong>choice()</strong> <strong>(2 Marks)</strong>\n",
        "<li> <strong>choices()</strong> <strong>(2 Marks)</strong>\n",
        "<li> <strong>sample()</strong> <strong>(2 Marks)</strong>\n",
        "<li> <strong>shuffle()</strong> <strong>(2 Marks)</strong>\n",
        "</ol>"
      ]
    },
    {
      "cell_type": "code",
      "execution_count": 6,
      "id": "70392bfa",
      "metadata": {
        "colab": {
          "base_uri": "https://localhost:8080/"
        },
        "id": "70392bfa",
        "outputId": "55cbef8a-ab11-4a68-fe22-061c4b9629b0"
      },
      "outputs": [
        {
          "output_type": "stream",
          "name": "stdout",
          "text": [
            "Help on method randint in module random:\n",
            "\n",
            "randint(a, b) method of random.Random instance\n",
            "    Return random integer in range [a, b], including both end points.\n",
            "\n"
          ]
        }
      ],
      "source": [
        "# your Python code goes here\n",
        "help(random.randint)"
      ]
    },
    {
      "cell_type": "code",
      "execution_count": 7,
      "id": "0472701c",
      "metadata": {
        "colab": {
          "base_uri": "https://localhost:8080/"
        },
        "id": "0472701c",
        "outputId": "d7bf968e-0d1f-4a12-f756-2a6291bd8792"
      },
      "outputs": [
        {
          "output_type": "stream",
          "name": "stdout",
          "text": [
            "Help on method randrange in module random:\n",
            "\n",
            "randrange(start, stop=None, step=1) method of random.Random instance\n",
            "    Choose a random item from range(start, stop[, step]).\n",
            "    \n",
            "    This fixes the problem with randint() which includes the\n",
            "    endpoint; in Python this is usually not what you want.\n",
            "\n"
          ]
        }
      ],
      "source": [
        "# your Python code goes here\n",
        "help(random.randrange)"
      ]
    },
    {
      "cell_type": "code",
      "execution_count": 8,
      "id": "8c06593f",
      "metadata": {
        "colab": {
          "base_uri": "https://localhost:8080/"
        },
        "id": "8c06593f",
        "outputId": "9601e027-2ca4-4734-e9d0-e5870ab6bae6"
      },
      "outputs": [
        {
          "output_type": "stream",
          "name": "stdout",
          "text": [
            "Help on method uniform in module random:\n",
            "\n",
            "uniform(a, b) method of random.Random instance\n",
            "    Get a random number in the range [a, b) or [a, b] depending on rounding.\n",
            "\n"
          ]
        }
      ],
      "source": [
        "# your Python code goes here\n",
        "help(random.uniform)"
      ]
    },
    {
      "cell_type": "code",
      "execution_count": 9,
      "id": "85789793",
      "metadata": {
        "colab": {
          "base_uri": "https://localhost:8080/"
        },
        "id": "85789793",
        "outputId": "615e4785-46b0-45a9-b2d4-b5690ea8bbce"
      },
      "outputs": [
        {
          "output_type": "stream",
          "name": "stdout",
          "text": [
            "Help on method choice in module random:\n",
            "\n",
            "choice(seq) method of random.Random instance\n",
            "    Choose a random element from a non-empty sequence.\n",
            "\n"
          ]
        }
      ],
      "source": [
        "# your Python code goes here\n",
        "help(random.choice)"
      ]
    },
    {
      "cell_type": "code",
      "execution_count": 10,
      "id": "f9792ec7",
      "metadata": {
        "colab": {
          "base_uri": "https://localhost:8080/"
        },
        "id": "f9792ec7",
        "outputId": "bd9a13f3-3491-47de-e84b-24a47cfbfc57"
      },
      "outputs": [
        {
          "output_type": "stream",
          "name": "stdout",
          "text": [
            "Help on method choices in module random:\n",
            "\n",
            "choices(population, weights=None, *, cum_weights=None, k=1) method of random.Random instance\n",
            "    Return a k sized list of population elements chosen with replacement.\n",
            "    \n",
            "    If the relative weights or cumulative weights are not specified,\n",
            "    the selections are made with equal probability.\n",
            "\n"
          ]
        }
      ],
      "source": [
        "# your Python code goes here\n",
        "help(random.choices)"
      ]
    },
    {
      "cell_type": "code",
      "execution_count": 11,
      "id": "69a6fc3e",
      "metadata": {
        "colab": {
          "base_uri": "https://localhost:8080/"
        },
        "id": "69a6fc3e",
        "outputId": "54598231-ffa7-4ace-e3e5-424923e8dbc6"
      },
      "outputs": [
        {
          "output_type": "stream",
          "name": "stdout",
          "text": [
            "Help on method sample in module random:\n",
            "\n",
            "sample(population, k, *, counts=None) method of random.Random instance\n",
            "    Chooses k unique random elements from a population sequence or set.\n",
            "    \n",
            "    Returns a new list containing elements from the population while\n",
            "    leaving the original population unchanged.  The resulting list is\n",
            "    in selection order so that all sub-slices will also be valid random\n",
            "    samples.  This allows raffle winners (the sample) to be partitioned\n",
            "    into grand prize and second place winners (the subslices).\n",
            "    \n",
            "    Members of the population need not be hashable or unique.  If the\n",
            "    population contains repeats, then each occurrence is a possible\n",
            "    selection in the sample.\n",
            "    \n",
            "    Repeated elements can be specified one at a time or with the optional\n",
            "    counts parameter.  For example:\n",
            "    \n",
            "        sample(['red', 'blue'], counts=[4, 2], k=5)\n",
            "    \n",
            "    is equivalent to:\n",
            "    \n",
            "        sample(['red', 'red', 'red', 'red', 'blue', 'blue'], k=5)\n",
            "    \n",
            "    To choose a sample from a range of integers, use range() for the\n",
            "    population argument.  This is especially fast and space efficient\n",
            "    for sampling from a large population:\n",
            "    \n",
            "        sample(range(10000000), 60)\n",
            "\n"
          ]
        }
      ],
      "source": [
        "# your Python code goes here\n",
        "help(random.sample)"
      ]
    },
    {
      "cell_type": "code",
      "execution_count": 12,
      "id": "f15d0be7",
      "metadata": {
        "colab": {
          "base_uri": "https://localhost:8080/"
        },
        "id": "f15d0be7",
        "outputId": "a5f09bc4-3869-4fb4-b36b-103120e86f5f"
      },
      "outputs": [
        {
          "output_type": "stream",
          "name": "stdout",
          "text": [
            "Help on method shuffle in module random:\n",
            "\n",
            "shuffle(x, random=None) method of random.Random instance\n",
            "    Shuffle list x in place, and return None.\n",
            "    \n",
            "    Optional argument random is a 0-argument function returning a\n",
            "    random float in [0.0, 1.0); if it is the default None, the\n",
            "    standard random.random will be used.\n",
            "\n"
          ]
        }
      ],
      "source": [
        "# your Python code goes here\n",
        "help(random.shuffle)"
      ]
    },
    {
      "cell_type": "markdown",
      "id": "ba7e4239",
      "metadata": {
        "id": "ba7e4239"
      },
      "source": [
        "## Task 2 (20 Marks)"
      ]
    },
    {
      "cell_type": "markdown",
      "id": "b72157a8",
      "metadata": {
        "id": "b72157a8"
      },
      "source": [
        "Generate a list that contains 10 random <strong>5-digit</strong> integers. <strong>(7 Marks)</strong>"
      ]
    },
    {
      "cell_type": "code",
      "execution_count": 13,
      "id": "c472f3d1",
      "metadata": {
        "colab": {
          "base_uri": "https://localhost:8080/"
        },
        "id": "c472f3d1",
        "outputId": "f0e31a93-50da-45b8-a973-9eca18ae35fd"
      },
      "outputs": [
        {
          "output_type": "stream",
          "name": "stdout",
          "text": [
            "\t|The list of 10 random 5-digit integers is [22524, 93132, 84692, 36426, 54153, 91647, 22093, 67852, 62884, 47491]\n"
          ]
        }
      ],
      "source": [
        "# your Python code goes here\n",
        "list_1=[random.randint(11111, 99999) for i in range(10)]\n",
        "print(f'\\t|The list of 10 random 5-digit integers is {list_1}')"
      ]
    },
    {
      "cell_type": "markdown",
      "id": "b2e0986d",
      "metadata": {
        "id": "b2e0986d"
      },
      "source": [
        "Generate a list that contains 10 random <strong>9-digit</strong> integers. <strong>(6 Marks)</strong>"
      ]
    },
    {
      "cell_type": "code",
      "execution_count": 14,
      "id": "0692cef8",
      "metadata": {
        "colab": {
          "base_uri": "https://localhost:8080/"
        },
        "id": "0692cef8",
        "outputId": "80a2fc17-e2ff-4cf9-8079-3653104b7546"
      },
      "outputs": [
        {
          "output_type": "stream",
          "name": "stdout",
          "text": [
            "|The list of 10 random 9-digit integers is [697235941, 452358851, 193410000, 742199010, 597163493, 883199559, 545930373, 394446692, 519060494, 424108111]\n"
          ]
        }
      ],
      "source": [
        "# your Python code goes here\n",
        "list_2=[random.randint(111111111, 999999999) for i in range(10)]\n",
        "print(f'|The list of 10 random 9-digit integers is {list_2}')"
      ]
    },
    {
      "cell_type": "markdown",
      "id": "ee169e05",
      "metadata": {
        "id": "ee169e05"
      },
      "source": [
        "Generate a list that contains all positive integers less than 100 divisible by 6. <strong>(7 Marks)</strong>"
      ]
    },
    {
      "cell_type": "code",
      "execution_count": 15,
      "id": "b4ca6335",
      "metadata": {
        "colab": {
          "base_uri": "https://localhost:8080/"
        },
        "id": "b4ca6335",
        "outputId": "c4be19a1-d5ee-4f74-e0d5-d8f109a9dce5"
      },
      "outputs": [
        {
          "output_type": "stream",
          "name": "stdout",
          "text": [
            "|The list of all positive integers less than 100 divisible by 6 is [6, 12, 18, 24, 30, 36, 42, 48, 54, 60, 66, 72, 78, 84, 90, 96]\n"
          ]
        }
      ],
      "source": [
        "# your Python code goes here\n",
        "list_3=[x for x in range(6,100,6)]\n",
        "print(f'|The list of all positive integers less than 100 divisible by 6 is {list_3}')"
      ]
    },
    {
      "cell_type": "markdown",
      "id": "0dd56391",
      "metadata": {
        "id": "0dd56391"
      },
      "source": [
        "### Task 3 (30 Marks)\n",
        "The goal of this task is to simulate a <strong>fair coin flip</strong> using appropriate <strong>random</strong> method."
      ]
    },
    {
      "cell_type": "code",
      "execution_count": 16,
      "id": "a5a93efc",
      "metadata": {
        "id": "a5a93efc"
      },
      "outputs": [],
      "source": [
        "random.seed(4800)"
      ]
    },
    {
      "cell_type": "markdown",
      "id": "5a718578",
      "metadata": {
        "id": "5a718578"
      },
      "source": [
        "Produce a list with a name <strong>result</strong> that contains the results of <strong>flipping a fair coin</strong> 100 times. (Use 0 for tail and 1 for head) (<strong>7 Marks</strong>)"
      ]
    },
    {
      "cell_type": "code",
      "execution_count": 17,
      "id": "a755dd90",
      "metadata": {
        "colab": {
          "base_uri": "https://localhost:8080/"
        },
        "id": "a755dd90",
        "outputId": "98dd6829-6bfe-4070-c490-8b67e6abddb9"
      },
      "outputs": [
        {
          "output_type": "stream",
          "name": "stdout",
          "text": [
            "| The list that contains the results of flipping a fair coin 100 times is [1, 0, 1, 1, 0, 1, 1, 0, 1, 0, 0, 0, 1, 1, 1, 0, 0, 0, 0, 0, 1, 1, 0, 1, 1, 0, 1, 1, 0, 0, 0, 1, 0, 0, 0, 0, 1, 0, 1, 0, 1, 0, 1, 1, 0, 1, 1, 1, 0, 1, 0, 0, 0, 0, 0, 1, 1, 1, 0, 0, 0, 1, 0, 1, 1, 1, 0, 1, 0, 0, 0, 0, 1, 1, 0, 1, 1, 1, 0, 0, 0, 1, 1, 0, 1, 1, 1, 1, 1, 0, 1, 0, 0, 0, 0, 1, 1, 1, 0, 0]\n"
          ]
        }
      ],
      "source": [
        "# your Python code goes here\n",
        "list_4=[random.randint(0,1) for i in range(100)]\n",
        "print(f'| The list that contains the results of flipping a fair coin 100 times is {list_4}')"
      ]
    },
    {
      "cell_type": "markdown",
      "id": "a60017e4",
      "metadata": {
        "id": "a60017e4"
      },
      "source": [
        "Use a <strong>for loop</strong> to compute the number of heads and tails. (<strong>9 Marks</strong>)"
      ]
    },
    {
      "cell_type": "code",
      "execution_count": 18,
      "id": "6d840fb2",
      "metadata": {
        "colab": {
          "base_uri": "https://localhost:8080/"
        },
        "id": "6d840fb2",
        "outputId": "f94faa78-2730-4b74-8f3a-5dd1c96a64c2"
      },
      "outputs": [
        {
          "output_type": "stream",
          "name": "stdout",
          "text": [
            "The total number of tail is 51 and heads is 49 and total is 100.\n"
          ]
        }
      ],
      "source": [
        "# your Python code goes here\n",
        "count_tail=0\n",
        "count_head=0\n",
        "for x in list_4:\n",
        "  if x==0:\n",
        "    count_tail+=1\n",
        "  if x==1:\n",
        "    count_head+=1\n",
        "\n",
        "total=int(int(count_tail) + int(count_head))\n",
        "print(f'The total number of tail is {count_tail} and heads is {count_head} and total is {total}.')"
      ]
    },
    {
      "cell_type": "markdown",
      "id": "36f32a0e",
      "metadata": {
        "id": "36f32a0e"
      },
      "source": [
        "Compute the <strong>relativy frequency</strong> of the the number of heads and tails with two decimal places. (<strong>7 Marks</strong>)"
      ]
    },
    {
      "cell_type": "code",
      "execution_count": 19,
      "id": "d822465f",
      "metadata": {
        "colab": {
          "base_uri": "https://localhost:8080/"
        },
        "id": "d822465f",
        "outputId": "6b9e0c67-0019-48b0-96e8-566f40e30c42"
      },
      "outputs": [
        {
          "output_type": "stream",
          "name": "stdout",
          "text": [
            "Relative frequency for tail is 51.0% and for head is 49.0%.\n"
          ]
        }
      ],
      "source": [
        "# your Python code goes here\n",
        "print(f'Relative frequency for tail is {(count_tail/total)*100}% and for head is {(count_head/total)*100}%.')"
      ]
    },
    {
      "cell_type": "markdown",
      "id": "c4efe294",
      "metadata": {
        "id": "c4efe294"
      },
      "source": [
        "Use a <strong>for loop</strong> to transform the <strong>result</strong> to replace <strong>1</strong> with <strong>'H'</strong> and <strong>0</strong> with <strong>'T'</strong>. (<strong>Marks 7</strong>)\n"
      ]
    },
    {
      "cell_type": "code",
      "execution_count": 20,
      "id": "e83ad913",
      "metadata": {
        "colab": {
          "base_uri": "https://localhost:8080/"
        },
        "id": "e83ad913",
        "outputId": "692841d4-1da4-4840-af51-9ac5a24eaf1a"
      },
      "outputs": [
        {
          "output_type": "stream",
          "name": "stdout",
          "text": [
            "The list is updated now to ['H', 'T', 'H', 'H', 'T', 'H', 'H', 'T', 'H', 'T', 'T', 'T', 'H', 'H', 'H', 'T', 'T', 'T', 'T', 'T', 'H', 'H', 'T', 'H', 'H', 'T', 'H', 'H', 'T', 'T', 'T', 'H', 'T', 'T', 'T', 'T', 'H', 'T', 'H', 'T', 'H', 'T', 'H', 'H', 'T', 'H', 'H', 'H', 'T', 'H', 'T', 'T', 'T', 'T', 'T', 'H', 'H', 'H', 'T', 'T', 'T', 'H', 'T', 'H', 'H', 'H', 'T', 'H', 'T', 'T', 'T', 'T', 'H', 'H', 'T', 'H', 'H', 'H', 'T', 'T', 'T', 'H', 'H', 'T', 'H', 'H', 'H', 'H', 'H', 'T', 'H', 'T', 'T', 'T', 'T', 'H', 'H', 'H', 'T', 'T']\n"
          ]
        }
      ],
      "source": [
        "# your Python code goes here\n",
        "for x in range(len(list_4)):\n",
        "  if list_4[x]==0:\n",
        "    list_4[x]='T'\n",
        "  if list_4[x]==1:\n",
        "    list_4[x]='H'\n",
        "\n",
        "print(f'The list is updated now to {list_4}')"
      ]
    },
    {
      "cell_type": "markdown",
      "id": "8ab3519b",
      "metadata": {
        "id": "8ab3519b"
      },
      "source": [
        "# Task 4 (30 Marks)\n",
        "\n",
        "The goal of this task is to simulate a <strong>lottery draw</strong> using appropriate random method.\n"
      ]
    },
    {
      "cell_type": "markdown",
      "id": "b1f32445",
      "metadata": {
        "id": "b1f32445"
      },
      "source": [
        "Generate a list named <strong>lottery_numbers</strong> between <strong>1</strong> and <strong>99</strong>. (<strong>5 Marks</strong>)."
      ]
    },
    {
      "cell_type": "code",
      "execution_count": 31,
      "id": "90da2858",
      "metadata": {
        "colab": {
          "base_uri": "https://localhost:8080/"
        },
        "id": "90da2858",
        "outputId": "01c13ae7-c5de-44d9-8774-3ed13d780fdf"
      },
      "outputs": [
        {
          "output_type": "stream",
          "name": "stdout",
          "text": [
            "|The new list is [31, 81, 30, 28, 26, 25, 82, 100, 83, 24]\n"
          ]
        }
      ],
      "source": [
        "# your Python code goes here\n",
        "a=[random.randint(1,100) for i in range(10)] #as range is not defined I will generate only 10 random numbers between 1 and 99 kept inside the list\n",
        "lottery_numbers=a\n",
        "print(f'|The new list is {lottery_numbers}')"
      ]
    },
    {
      "cell_type": "markdown",
      "id": "75d0ef9e",
      "metadata": {
        "id": "75d0ef9e"
      },
      "source": [
        "Rearrange the <strong>lottery_numbers</strong> list items in <strong>random order</strong>. (<strong>5 Marks</strong>)"
      ]
    },
    {
      "cell_type": "code",
      "execution_count": 33,
      "id": "e43d5f35",
      "metadata": {
        "id": "e43d5f35",
        "colab": {
          "base_uri": "https://localhost:8080/"
        },
        "outputId": "cdc678ef-e7e3-4485-f3e2-383b83c4921a"
      },
      "outputs": [
        {
          "output_type": "stream",
          "name": "stdout",
          "text": [
            "\t |Shuffled list is [82, 83, 100, 26, 28, 31, 25, 30, 24, 81]\n"
          ]
        }
      ],
      "source": [
        "# your Python code goes here\n",
        "import random\n",
        "random.shuffle(lottery_numbers)\n",
        "print(f'\\t | Shuffled list is {lottery_numbers}')\n"
      ]
    },
    {
      "cell_type": "markdown",
      "id": "eac42753",
      "metadata": {
        "id": "eac42753"
      },
      "source": [
        "Generate a list with the name <strong>lottery_draw</strong> of <strong>6</strong> randomly selected <strong>unique</strong> numbers from the list <strong>lottery_numbers</strong> list. (<strong>5 Marks</strong>)"
      ]
    },
    {
      "cell_type": "code",
      "execution_count": 37,
      "id": "7404508f",
      "metadata": {
        "id": "7404508f",
        "colab": {
          "base_uri": "https://localhost:8080/"
        },
        "outputId": "43bdefe3-164b-49ef-c5fd-57ef1a5700c4"
      },
      "outputs": [
        {
          "output_type": "stream",
          "name": "stdout",
          "text": [
            "\t| Selecting 6 random unique numbers from list lottery_numbers is [24, 26, 25, 31, 30, 81].\n"
          ]
        }
      ],
      "source": [
        "# your Python code goes here\n",
        "lottery_draw=random.sample(lottery_numbers,6)\n",
        "print(f'\\t| Selecting 6 random unique numbers from list lottery_numbers is {lottery_draw}.')"
      ]
    },
    {
      "cell_type": "markdown",
      "id": "601a065c",
      "metadata": {
        "id": "601a065c"
      },
      "source": [
        "Sort the list <strong>lottery_draw</strong> in <strong>descending order</strong>. (<strong>5 Marks</strong>)"
      ]
    },
    {
      "cell_type": "code",
      "execution_count": 42,
      "id": "81e75600",
      "metadata": {
        "id": "81e75600",
        "colab": {
          "base_uri": "https://localhost:8080/"
        },
        "outputId": "6dce3634-c61e-48c0-cfc9-32cc02d7e226"
      },
      "outputs": [
        {
          "output_type": "stream",
          "name": "stdout",
          "text": [
            "\t| Sorted list in descending order is [81, 31, 30, 26, 25, 24].\n"
          ]
        }
      ],
      "source": [
        "# your Python code goes here\n",
        "lottery_draw.sort(reverse=True)\n",
        "print(f'\\t| Sorted list in descending order is {lottery_draw}.')"
      ]
    },
    {
      "cell_type": "markdown",
      "id": "febf6fa1",
      "metadata": {
        "id": "febf6fa1"
      },
      "source": [
        "Generate a list with the name <strong>lottery_draw</strong> of <strong>9</strong> randomly selected numbers from the list <strong>lottery_numbers</strong> list. (<strong>5 Marks</strong>)"
      ]
    },
    {
      "cell_type": "code",
      "execution_count": 43,
      "id": "17a30657",
      "metadata": {
        "id": "17a30657",
        "colab": {
          "base_uri": "https://localhost:8080/"
        },
        "outputId": "6cba20e0-5e1d-4c88-cc67-e2d68ca54002"
      },
      "outputs": [
        {
          "output_type": "stream",
          "name": "stdout",
          "text": [
            "\t| Selecting 9 random unique numbers from list lottery_numbers is [24, 28, 81, 30, 82, 100, 26, 31, 25].\n"
          ]
        }
      ],
      "source": [
        "# your Python code goes here\n",
        "lottery_draw=random.sample(lottery_numbers,9)\n",
        "print(f'\\t| Selecting 9 random unique numbers from list lottery_numbers is {lottery_draw}.')"
      ]
    },
    {
      "cell_type": "markdown",
      "id": "cc0e814d",
      "metadata": {
        "id": "cc0e814d"
      },
      "source": [
        "Sort the list lottery_draw in <strong>ascending order</strong>. (<strong>5 Marks</strong>)"
      ]
    },
    {
      "cell_type": "code",
      "execution_count": 44,
      "id": "2688e6f8",
      "metadata": {
        "id": "2688e6f8",
        "colab": {
          "base_uri": "https://localhost:8080/"
        },
        "outputId": "94baa23b-3541-4914-85b9-bad25970ff31"
      },
      "outputs": [
        {
          "output_type": "stream",
          "name": "stdout",
          "text": [
            "\t| Sorted list in ascending order is [24, 25, 26, 28, 30, 31, 81, 82, 100].\n"
          ]
        }
      ],
      "source": [
        "# your Python code goes here\n",
        "lottery_draw.sort()\n",
        "print(f'\\t| Sorted list in ascending order is {lottery_draw}.')"
      ]
    }
  ],
  "metadata": {
    "kernelspec": {
      "display_name": "Python 3 (ipykernel)",
      "language": "python",
      "name": "python3"
    },
    "language_info": {
      "codemirror_mode": {
        "name": "ipython",
        "version": 3
      },
      "file_extension": ".py",
      "mimetype": "text/x-python",
      "name": "python",
      "nbconvert_exporter": "python",
      "pygments_lexer": "ipython3",
      "version": "3.9.7"
    },
    "vscode": {
      "interpreter": {
        "hash": "261a921f6df884d0c45ef12b662eecd19771c60b5f61300af35e3b76f3885634"
      }
    },
    "colab": {
      "provenance": []
    }
  },
  "nbformat": 4,
  "nbformat_minor": 5
}